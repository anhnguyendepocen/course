{
 "cells": [
  {
   "cell_type": "code",
   "execution_count": 1,
   "metadata": {
    "collapsed": false
   },
   "outputs": [
    {
     "data": {
      "text/html": [
       "/*\n",
       "Placeholder for custom user CSS\n",
       "\n",
       "mainly to be overridden in profile/static/custom/custom.css\n",
       "\n",
       "This will always be an empty file in IPython\n",
       "*/\n",
       "\n",
       "\n",
       "\n",
       "<link href='http://fonts.googleapis.com/css?family=Alegreya+Sans:100,300,400,500,700,800,900,100italic,300italic,400italic,500italic,700italic,800italic,900italic' rel='stylesheet' type='text/css'>\n",
       "<link href='http://fonts.googleapis.com/css?family=Arvo:400,700,400italic' rel='stylesheet' type='text/css'>\n",
       "<link href='http://fonts.googleapis.com/css?family=PT+Mono' rel='stylesheet' type='text/css'>\n",
       "<link href='http://fonts.googleapis.com/css?family=Shadows+Into+Light' rel='stylesheet' type='text/css'>\n",
       "<link href='http://fonts.googleapis.com/css?family=Philosopher:400,700,400italic,700italic' rel='stylesheet' type='text/css'>\n",
       "\n",
       "<style>\n",
       "\n",
       "@font-face {\n",
       "    font-family: \"Computer Modern\";\n",
       "    src: url('http://mirrors.ctan.org/fonts/cm-unicode/fonts/otf/cmunss.otf');\n",
       "}\n",
       "\n",
       "#notebook_panel { /* main background */\n",
       "    background: #888;\n",
       "    color: #f6f6f6;\n",
       "}\n",
       "\n",
       "\n",
       "div.cell { /* set cell width to about 80 chars */\n",
       "    width: 800px;\n",
       "}\n",
       "\n",
       "div #notebook { /* centre the content */\n",
       "    background: #fff; /* white background for content */\n",
       "    width: 1000px;\n",
       "    margin: auto;\n",
       "    padding-left: 1em;\n",
       "}\n",
       "\n",
       "#notebook li { /* More space between bullet points */\n",
       "margin-top:0.8em;\n",
       "}\n",
       "\n",
       "/* draw border around running cells */\n",
       "div.cell.border-box-sizing.code_cell.running {\n",
       "    border: 3px solid #111;\n",
       "}\n",
       "\n",
       "/* Put a solid color box around each cell and its output, visually linking them together */\n",
       "div.cell.code_cell {\n",
       "    background-color: rgba(171,165,131,0.3); \n",
       "    border-radius: 10px; /* rounded borders */\n",
       "    padding: 1em;\n",
       "    margin-top: 1em;\n",
       "}\n",
       "\n",
       "div.text_cell_render{\n",
       "    font-family: 'Arvo' sans-serif;\n",
       "    line-height: 130%;\n",
       "    font-size: 150%;\n",
       "    width:700px;\n",
       "    margin-left:auto;\n",
       "    margin-right:auto;\n",
       "}\n",
       "\n",
       "/* Formatting for header cells */\n",
       ".text_cell_render h1 {\n",
       "    font-family: 'Philosopher', sans-serif;\n",
       "    font-weight: 400;\n",
       "    font-size: 32pt;\n",
       "    line-height: 100%;\n",
       "    color: rgb(12,85,97);\n",
       "    margin-bottom: 0.1em;\n",
       "    margin-top: 0.1em;\n",
       "    display: block;\n",
       "}\n",
       "\n",
       ".text_cell_render h2 {\n",
       "    font-family: 'Philosopher', serif;\n",
       "    font-weight: 700;\n",
       "    font-size: 24pt;\n",
       "    line-height: 100%;\n",
       "    color: rgb(171,165,131);\n",
       "    margin-bottom: 0.1em;\n",
       "    margin-top: 0.1em;\n",
       "    display: block;\n",
       "}    \n",
       "\n",
       ".text_cell_render h3 {\n",
       "    font-family: 'Philosopher', serif;\n",
       "    margin-top:12px;\n",
       "    margin-bottom: 3px;\n",
       "    font-style: italic;\n",
       "    color: rgb(95,92,72);\n",
       "}\n",
       "\n",
       ".text_cell_render h4 {\n",
       "    font-family: 'Philosopher', serif;\n",
       "}\n",
       "\n",
       ".text_cell_render h5 {\n",
       "    font-family: 'Alegreya Sans', sans-serif;\n",
       "    font-weight: 300;\n",
       "    font-size: 16pt;\n",
       "    color: grey;\n",
       "    font-style: italic;\n",
       "    margin-bottom: .1em;\n",
       "    margin-top: 0.1em;\n",
       "    display: block;\n",
       "}\n",
       "\n",
       ".text_cell_render h6 {\n",
       "    font-family: 'PT Mono', sans-serif;\n",
       "    font-weight: 300;\n",
       "    font-size: 10pt;\n",
       "    color: grey;\n",
       "    margin-bottom: 1px;\n",
       "    margin-top: 1px;\n",
       "}\n",
       "\n",
       ".CodeMirror{\n",
       "        font-family: \"PT Mono\";\n",
       "        font-size: 120%;\n",
       "}\n",
       "\n",
       "</style>"
      ],
      "text/plain": [
       "<IPython.core.display.HTML object>"
      ]
     },
     "execution_count": 1,
     "metadata": {},
     "output_type": "execute_result"
    }
   ],
   "source": [
    "from IPython.core.display import HTML\n",
    "css_file = '../../../msc/custom.css'\n",
    "HTML(open(css_file, \"r\").read())"
   ]
  },
  {
   "cell_type": "markdown",
   "metadata": {},
   "source": [
    "Modelling On the Job Search\n",
    "===========================\n",
    "The implementation draws heavily from the material provided on the *Quantitative Economics* website.\n",
    "\n",
    "### Model Features:\n",
    "\n",
    "1. Job-specific human capital accumulation combined with on-the-job search\n",
    "2. Infinite horizon dynamic programming with one state variable and two controls\n",
    "\n",
    "### Model Setup:\n",
    "\n",
    "1. Let $x_{t}$ denote the time-t-job-specific human capital of a worker employed at a given firm\n",
    "\n",
    "2. Let $w_{t}$ denote current wages\n",
    "\n",
    "3. Let $w_{t}=x_{t}(1-s_{t}-\\phi_{t})$ where\n",
    "\n",
    "      $\\phi_{t}$ is investment in job-specific human capital for the current role\n",
    "\n",
    "      $s_{t}$ is search effort, devoted to obtaining new offers from other firms\n",
    "    \n",
    "4. If the worker remains in the current job, evolution of $\\{x_{t}\\}$ is given by $x_{t+1}=G(x_{t},\\phi_{t})$\n",
    " \n",
    "5. When search effort at t is $s_{t}$, the worker receives a new job offer with probability $\\pi(s_{t})\\in[0,1]$\n",
    " \n",
    "6. Value of offer is $U_{t+1}$, where $\\{U_{t}\\}$ is idd with common distribution F\n",
    " \n",
    "7. Worker has the right to reject the current offer and continue with existing job\n",
    "\n",
    "8. In particular, $x_{t+1}=U_{t+1}$ if accepts, and $x_{t+1}=G(x_{t},\\phi_{t})$ if rejects.\n",
    "\n",
    "### The Bellman Equation:\n",
    "\n",
    "$$V(x)\t=\t\\underset{s+\\phi<1}{\\max}\\{x(1-s-\\phi)+\\beta(1-\\pi(s))V(G(x,\\phi))+...\n",
    "\t\t+\\beta\\pi(s)\\int V(\\max\\{G(x,\\phi),u\\})F(du)\\} $$ \n",
    "\n",
    "### Parameterizations:\n",
    "\n",
    "$$G(x,\\phi)\t=\tA(x\\phi)^{\\alpha} \\\\\n",
    "\\pi(s)\t=\t\\sqrt{s} \\\\\n",
    "F\t=\tBeta(2,2)$$\n",
    " \n",
    "\n",
    "where:\n",
    "$$A\t=\t1.4 \\\\\n",
    "\\alpha\t=\t0.6 \\\\\n",
    "\\beta\t=\t0.96 $$\n",
    " \n",
    "### Roadmap:\n",
    "\n",
    "1. Construct the Bellman operator\n",
    "2. Do value function iterations "
   ]
  },
  {
   "cell_type": "markdown",
   "metadata": {},
   "source": [
    "# Load Resources"
   ]
  },
  {
   "cell_type": "code",
   "execution_count": 1,
   "metadata": {
    "collapsed": false
   },
   "outputs": [],
   "source": [
    "import numpy as np\n",
    "import matplotlib.pyplot as plt\n",
    "import scipy.stats as stats\n",
    "from scipy.optimize import minimize\n",
    "from scipy.integrate import fixed_quad as integrate\n",
    "import time\n",
    "from scipy import interp"
   ]
  },
  {
   "cell_type": "markdown",
   "metadata": {},
   "source": [
    "# Parameterization"
   ]
  },
  {
   "cell_type": "code",
   "execution_count": 2,
   "metadata": {
    "collapsed": false
   },
   "outputs": [],
   "source": [
    "# production function\n",
    "A = 1.4\n",
    "alpha = 0.6\n",
    "G = lambda x, phi: A*(x*phi)**alpha\n",
    "\n",
    "# discount factor\n",
    "beta = 0.96\n",
    "\n",
    "# tolerence\n",
    "epsilon = 1e-4\n",
    "\n",
    "# minimization method\n",
    "method = \"COBYLA\"\n",
    "\n",
    "# probability of having a new job offer (a function of search effort)\n",
    "pi = np.sqrt\n",
    "\n",
    "# distribution of the new job offer\n",
    "F = stats.beta(2,2)\n",
    "\n",
    "# x_grid\n",
    "grid_size = 25\n",
    "grid_max = max(A**(1/(1-alpha)), F.ppf(1-epsilon))\n",
    "x_grid = np.linspace(epsilon, grid_max, grid_size)"
   ]
  },
  {
   "cell_type": "markdown",
   "metadata": {},
   "source": [
    "# Bellman Operator"
   ]
  },
  {
   "cell_type": "code",
   "execution_count": 3,
   "metadata": {
    "collapsed": false
   },
   "outputs": [],
   "source": [
    "def bellman_operator(V, brute_force=False, return_policies=False):\n",
    "    \"\"\"\n",
    "    \n",
    "    Parameters \n",
    "    ----------\n",
    "    V: array_like(float)\n",
    "       Array representing an approximate value function\n",
    "    brute_force: bool, optional(default=False)\n",
    "                 Default is False. If the brute_force flag is True, then grid\n",
    "                 search is performed at each maximization step.\n",
    "    return_policies: bool, optional(default=False)\n",
    "                     Indicates whether to return just the updated value function TV or\n",
    "                     both the greedy policy computed from V and TV\n",
    "    \n",
    "    Returns\n",
    "    -------\n",
    "    new_V: array_like(float)\n",
    "           The updated value function Tv, as an array representing \n",
    "           the values TV(x) over x in x_grid.\n",
    "    s_policy: array_like(float)\n",
    "              The greedy policy computed from V. Only returned if return_policies == True\n",
    "    \"\"\"\n",
    "    \n",
    "    # set up\n",
    "    Vf = lambda x: interp(x, x_grid, V)\n",
    "    N = len(x_grid)\n",
    "    new_V, s_policy, phi_policy = np.empty(N), np.empty(N), np.empty(N)\n",
    "    a, b = F.ppf(0.005), F.ppf(0.995)\n",
    "    c1 = lambda z: 1 - sum(z) # used to enforce s+phi <= 1\n",
    "    c2 = lambda z: z[0] - epsilon # used to enforce s >= epsilon\n",
    "    c3 = lambda z: z[1] - epsilon # used to enforce phi >= epsilon\n",
    "    constraints = [{\"type\":\"ineq\",\"fun\":i} for i in [c1, c2, c3]]\n",
    "    guess = (0.2, 0.2)\n",
    "    \n",
    "    # solve r.h.s. of Bellman equation \n",
    "    \n",
    "    for i, x in enumerate(x_grid):\n",
    "        \n",
    "        # set up objective function\n",
    "        def w(z):\n",
    "            s, phi = z\n",
    "            h = lambda u: Vf(np.maximum(G(x,phi),u))*F.pdf(u)\n",
    "            integral, err = integrate(h,a,b)\n",
    "            q = pi(s)*integral + (1-pi(s))*Vf(G(x,phi))\n",
    "            # minus because we minimize\n",
    "            return -x*(1-s-phi) - beta*q\n",
    "        \n",
    "        # either use SciPy solver\n",
    "        if not brute_force:\n",
    "            max_s, max_phi = minimize(w, guess, constraints=constraints, method=method)[\"x\"]\n",
    "            max_val = -w((max_s,max_phi))\n",
    "        \n",
    "        # or search on a grid\n",
    "        else:\n",
    "            search_grid = np.linspace(epsilon, 1.0, 15)\n",
    "            max_val = -1.0\n",
    "            for s in search_grid:\n",
    "                for phi in search_grid:\n",
    "                    current_val = -w((s,phi)) if s + phi <= 1.0 else -1.0\n",
    "                    if current_val > max_val:\n",
    "                        max_val, max_s, max_phi = current_val, s, phi\n",
    "        \n",
    "        # store results\n",
    "        new_V[i] = max_val\n",
    "        s_policy[i], phi_policy[i] = max_s, max_phi\n",
    "    \n",
    "    if return_policies:\n",
    "        return s_policy, phi_policy\n",
    "    else:\n",
    "        return new_V"
   ]
  },
  {
   "cell_type": "markdown",
   "metadata": {},
   "source": [
    "# Value Function Iterations"
   ]
  },
  {
   "cell_type": "code",
   "execution_count": 4,
   "metadata": {
    "collapsed": false
   },
   "outputs": [],
   "source": [
    "def compute_fixed_point(T, v, error_tol=1e-4, max_iter=50, verbose=1, print_skip=5, *args, **kwargs):\n",
    "    \"\"\"\n",
    "    Computes and returns T^k v, an approximate fixed point\n",
    "    Here T is an operator, v is an initial condition and k is the number of iterates.\n",
    "    Provided that T is a contraction mapping or similar, T^k v will be an approximation to be fixed point.\n",
    "    \n",
    "    Parameters\n",
    "    ----------\n",
    "    T: callable\n",
    "       function that acts on v\n",
    "    v: object\n",
    "       An object such that T(v) is defined\n",
    "    error_tol: scaler(float), optional(default=1e-3)\n",
    "               Error tolerance\n",
    "    max_iter: scaler(int), optional(default=True)\n",
    "              Maximum number of iterations\n",
    "    verbose: bool, optional(default=True)\n",
    "             If True, then print current error at each iterate.\n",
    "    args, kwargs:\n",
    "             Other arguments and keyword arguments that are passed directly to the \n",
    "             function T each time it is called.\n",
    "    \n",
    "    Returns\n",
    "    -------\n",
    "    v: object\n",
    "       The approximate fixed point\n",
    "    \"\"\"\n",
    "    \n",
    "    iterate = 0\n",
    "    error = error_tol + 1\n",
    "    \n",
    "    if verbose:\n",
    "        start_time = time.time()\n",
    "        msg = \"{i:<11}{d:<10}{t:<10}\".format(i=\"Iteration\",\n",
    "                                 d=\"Distance\",\n",
    "                                 t=\"Elapsed (seconds)\") # < means left alighned\n",
    "        print(msg)\n",
    "        print(\"-\"*len(msg))\n",
    "    \n",
    "    while iterate < max_iter and error > error_tol:\n",
    "        new_v = T(v, *args, **kwargs)\n",
    "        iterate += 1\n",
    "        error = np.max(np.abs(new_v - v))\n",
    "        \n",
    "        if verbose & (iterate%print_skip==0):\n",
    "            etime = time.time() - start_time\n",
    "            msg = \"{i:<11}{d:<10.3e}{t:<10.3e}\".format(i=iterate,d=error,t=etime)\n",
    "            print(msg)\n",
    "        v = new_v\n",
    "    return v"
   ]
  },
  {
   "cell_type": "markdown",
   "metadata": {},
   "source": [
    "# Solving the Model"
   ]
  },
  {
   "cell_type": "code",
   "execution_count": 5,
   "metadata": {
    "collapsed": false
   },
   "outputs": [
    {
     "name": "stderr",
     "output_type": "stream",
     "text": [
      "-c:4: RuntimeWarning: invalid value encountered in double_scalars\n",
      "-c:44: RuntimeWarning: invalid value encountered in sqrt\n"
     ]
    },
    {
     "name": "stdout",
     "output_type": "stream",
     "text": [
      "Iteration  Distance  Elapsed (seconds)\n",
      "--------------------------------------\n",
      "5          3.469e-01 1.731e+01 \n",
      "10         2.959e-01 2.558e+01 \n",
      "15         2.389e-01 3.413e+01 \n",
      "20         2.000e-01 4.159e+01 \n",
      "25         1.660e-01 4.965e+01 \n",
      "30         1.399e-01 5.853e+01 \n",
      "35         1.124e-01 6.855e+01 \n",
      "40         9.336e-02 7.878e+01 \n",
      "45         8.416e-02 9.000e+01 \n",
      "50         7.681e-02 9.972e+01 \n",
      "[ 8.34485292  8.34485292  8.34485424  8.62836112  8.73269308]\n"
     ]
    }
   ],
   "source": [
    "# starting value\n",
    "v_init = x_grid * 0.5\n",
    "\n",
    "# determine fix point using minimize\n",
    "V = compute_fixed_point(bellman_operator, v_init)\n",
    "print(V[0:5])"
   ]
  },
  {
   "cell_type": "code",
   "execution_count": 6,
   "metadata": {
    "collapsed": false
   },
   "outputs": [
    {
     "name": "stdout",
     "output_type": "stream",
     "text": [
      "Iteration  Distance  Elapsed (seconds)\n",
      "--------------------------------------\n",
      "5          3.416e-01 1.204e+01 \n",
      "10         2.783e-01 2.180e+01 \n",
      "15         2.268e-01 3.150e+01 \n",
      "20         1.849e-01 4.554e+01 \n",
      "25         1.506e-01 5.857e+01 \n",
      "30         1.228e-01 6.945e+01 \n",
      "35         1.001e-01 8.295e+01 \n",
      "40         8.154e-02 9.691e+01 \n",
      "45         6.645e-02 1.083e+02 \n",
      "50         5.416e-02 1.186e+02 \n",
      "[ 8.37111027  8.37800488  8.50121498  8.64509141  8.76706845]\n"
     ]
    }
   ],
   "source": [
    "# starting value\n",
    "v_init = x_grid * 0.5\n",
    "\n",
    "# determine fix point using grid search\n",
    "V = compute_fixed_point(bellman_operator, v_init, brute_force=True)\n",
    "print(V[0:5])"
   ]
  },
  {
   "cell_type": "markdown",
   "metadata": {},
   "source": [
    "# Plotting"
   ]
  },
  {
   "cell_type": "code",
   "execution_count": 7,
   "metadata": {
    "collapsed": false
   },
   "outputs": [],
   "source": [
    "# determine optimal policy\n",
    "s_policy, phi_policy = bellman_operator(V, return_policies=True)\n",
    "\n",
    "# === plot policies === #\n",
    "fig, ax = plt.subplots()\n",
    "ax.set_xlim(0, max(x_grid))\n",
    "ax.set_ylim(-0.1, 1.1)\n",
    "ax.plot(x_grid, phi_policy, 'b-', label='phi')\n",
    "ax.plot(x_grid, s_policy, 'g-', label='s')\n",
    "ax.set_xlabel(\"x\")\n",
    "ax.legend()\n",
    "plt.show()"
   ]
  }
 ],
 "metadata": {
  "kernelspec": {
   "display_name": "Python 2",
   "language": "python",
   "name": "python2"
  },
  "language_info": {
   "codemirror_mode": {
    "name": "ipython",
    "version": 2
   },
   "file_extension": ".py",
   "mimetype": "text/x-python",
   "name": "python",
   "nbconvert_exporter": "python",
   "pygments_lexer": "ipython2",
   "version": "2.7.6"
  }
 },
 "nbformat": 4,
 "nbformat_minor": 0
}

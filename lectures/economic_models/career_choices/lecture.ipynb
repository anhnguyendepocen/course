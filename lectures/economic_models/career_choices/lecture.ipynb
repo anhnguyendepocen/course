{
 "cells": [
  {
   "cell_type": "code",
   "execution_count": 1,
   "metadata": {
    "collapsed": false
   },
   "outputs": [
    {
     "data": {
      "text/html": [
       "/*\n",
       "Placeholder for custom user CSS\n",
       "\n",
       "mainly to be overridden in profile/static/custom/custom.css\n",
       "\n",
       "This will always be an empty file in IPython\n",
       "*/\n",
       "\n",
       "\n",
       "\n",
       "<link href='http://fonts.googleapis.com/css?family=Alegreya+Sans:100,300,400,500,700,800,900,100italic,300italic,400italic,500italic,700italic,800italic,900italic' rel='stylesheet' type='text/css'>\n",
       "<link href='http://fonts.googleapis.com/css?family=Arvo:400,700,400italic' rel='stylesheet' type='text/css'>\n",
       "<link href='http://fonts.googleapis.com/css?family=PT+Mono' rel='stylesheet' type='text/css'>\n",
       "<link href='http://fonts.googleapis.com/css?family=Shadows+Into+Light' rel='stylesheet' type='text/css'>\n",
       "<link href='http://fonts.googleapis.com/css?family=Philosopher:400,700,400italic,700italic' rel='stylesheet' type='text/css'>\n",
       "\n",
       "<style>\n",
       "\n",
       "@font-face {\n",
       "    font-family: \"Computer Modern\";\n",
       "    src: url('http://mirrors.ctan.org/fonts/cm-unicode/fonts/otf/cmunss.otf');\n",
       "}\n",
       "\n",
       "#notebook_panel { /* main background */\n",
       "    background: #888;\n",
       "    color: #f6f6f6;\n",
       "}\n",
       "\n",
       "\n",
       "div.cell { /* set cell width to about 80 chars */\n",
       "    width: 800px;\n",
       "}\n",
       "\n",
       "div #notebook { /* centre the content */\n",
       "    background: #fff; /* white background for content */\n",
       "    width: 1000px;\n",
       "    margin: auto;\n",
       "    padding-left: 1em;\n",
       "}\n",
       "\n",
       "#notebook li { /* More space between bullet points */\n",
       "margin-top:0.8em;\n",
       "}\n",
       "\n",
       "/* draw border around running cells */\n",
       "div.cell.border-box-sizing.code_cell.running {\n",
       "    border: 3px solid #111;\n",
       "}\n",
       "\n",
       "/* Put a solid color box around each cell and its output, visually linking them together */\n",
       "div.cell.code_cell {\n",
       "    background-color: rgba(171,165,131,0.3); \n",
       "    border-radius: 10px; /* rounded borders */\n",
       "    padding: 1em;\n",
       "    margin-top: 1em;\n",
       "}\n",
       "\n",
       "div.text_cell_render{\n",
       "    font-family: 'Arvo' sans-serif;\n",
       "    line-height: 130%;\n",
       "    font-size: 150%;\n",
       "    width:700px;\n",
       "    margin-left:auto;\n",
       "    margin-right:auto;\n",
       "}\n",
       "\n",
       "/* Formatting for header cells */\n",
       ".text_cell_render h1 {\n",
       "    font-family: 'Philosopher', sans-serif;\n",
       "    font-weight: 400;\n",
       "    font-size: 32pt;\n",
       "    line-height: 100%;\n",
       "    color: rgb(12,85,97);\n",
       "    margin-bottom: 0.1em;\n",
       "    margin-top: 0.1em;\n",
       "    display: block;\n",
       "}\n",
       "\n",
       ".text_cell_render h2 {\n",
       "    font-family: 'Philosopher', serif;\n",
       "    font-weight: 700;\n",
       "    font-size: 24pt;\n",
       "    line-height: 100%;\n",
       "    color: rgb(171,165,131);\n",
       "    margin-bottom: 0.1em;\n",
       "    margin-top: 0.1em;\n",
       "    display: block;\n",
       "}    \n",
       "\n",
       ".text_cell_render h3 {\n",
       "    font-family: 'Philosopher', serif;\n",
       "    margin-top:12px;\n",
       "    margin-bottom: 3px;\n",
       "    font-style: italic;\n",
       "    color: rgb(95,92,72);\n",
       "}\n",
       "\n",
       ".text_cell_render h4 {\n",
       "    font-family: 'Philosopher', serif;\n",
       "}\n",
       "\n",
       ".text_cell_render h5 {\n",
       "    font-family: 'Alegreya Sans', sans-serif;\n",
       "    font-weight: 300;\n",
       "    font-size: 16pt;\n",
       "    color: grey;\n",
       "    font-style: italic;\n",
       "    margin-bottom: .1em;\n",
       "    margin-top: 0.1em;\n",
       "    display: block;\n",
       "}\n",
       "\n",
       ".text_cell_render h6 {\n",
       "    font-family: 'PT Mono', sans-serif;\n",
       "    font-weight: 300;\n",
       "    font-size: 10pt;\n",
       "    color: grey;\n",
       "    margin-bottom: 1px;\n",
       "    margin-top: 1px;\n",
       "}\n",
       "\n",
       ".CodeMirror{\n",
       "        font-family: \"PT Mono\";\n",
       "        font-size: 120%;\n",
       "}\n",
       "\n",
       "</style>"
      ],
      "text/plain": [
       "<IPython.core.display.HTML object>"
      ]
     },
     "execution_count": 1,
     "metadata": {},
     "output_type": "execute_result"
    }
   ],
   "source": [
    "from IPython.core.display import HTML\n",
    "css_file = '../../../msc/custom.css'\n",
    "HTML(open(css_file, \"r\").read())"
   ]
  },
  {
   "cell_type": "markdown",
   "metadata": {},
   "source": [
    "Modelling Carrer Choices\n",
    "========================\n",
    "\n",
    "The model is based on the following research paper:\n",
    "\n",
    "    Derek Neal (1999). The Complexity of Job Mobility among Young Men, Journal of Labor Economics, 17(2), 237-261.\n",
    "    \n",
    "The implementation draws heavily from the material provided on the *Quantitative Economics* website.\n",
    "\n",
    "### Model Features\n",
    "\n",
    "Individuals choose their career and job within a career to max- imize the expected discounted value of lifetime wages. They solve an infinite horizon dynamic programming problem with two state variables.\n",
    "\n",
    "### Objective\n",
    "\n",
    "$$\\mathrm{E}\\sum\\limits _{i=1}^{n}\\beta^{t}\\omega_{t}$$\n",
    "\n",
    "### Payoffs\n",
    "\n",
    "$$w_t = \\theta_t + \\epsilon_t$$\n",
    "\n",
    "where:\n",
    "* $\\theta_t$ contribution of current occupation at time t\n",
    "* $\\epsilon_t$ contribution of current job at time t\n",
    "\n",
    "### Decision Problem\n",
    "\n",
    "At the start of time t, a worker has the following options:\n",
    "* **Stay Put**, retain a current (career, job) pair $(\\theta_t,\\epsilon_t)$\n",
    "* **New Job**, retain a current career $\\theta_t$ but redraw a job $\\epsilon_t$ \n",
    "* **New Life**, redraw both a career $\\theta_t$ and a job $\\epsilon_t$\n",
    "\n",
    "Draws of $\\theta$ and $\\epsilon$ are independent of each other and past values, with $\\theta_t \\sim F$ and $\\epsilon_t \\sim G$.\n",
    "\n",
    "### Value Functions\n",
    "\n",
    "$$ V_{SP} = \\theta+\\varepsilon+\\beta V(\\theta,\\varepsilon) \\\\\n",
    "V_{NJ} = \\theta+\\int\\varepsilon'G(d\\varepsilon')+\\beta\\int V(\\theta,\\varepsilon')G(d\\varepsilon') \\\\\n",
    "V_{NL} = \\int\\theta'F(d\\theta')+\\int\\varepsilon'G(d\\varepsilon')+\\beta\\int\\int V(\\theta',\\varepsilon')G(d\\varepsilon')F(d\\theta') $$\n",
    "\n",
    "### Course Registration\n",
    "\n",
    "Please register for our class ECON41904 by sending an eMail to Brett Baker at: bbaker@uchicago.edu"
   ]
  },
  {
   "cell_type": "markdown",
   "metadata": {},
   "source": [
    "Housekeeping\n",
    "------------"
   ]
  },
  {
   "cell_type": "code",
   "execution_count": 1,
   "metadata": {
    "collapsed": false
   },
   "outputs": [],
   "source": [
    "%matplotlib inline"
   ]
  },
  {
   "cell_type": "markdown",
   "metadata": {},
   "source": [
    "Load Resources\n",
    "--------------"
   ]
  },
  {
   "cell_type": "code",
   "execution_count": 2,
   "metadata": {
    "collapsed": false
   },
   "outputs": [],
   "source": [
    "# libraries\n",
    "import scipy\n",
    "import numpy as np\n",
    "    \n",
    "# project library\n",
    "from support import *"
   ]
  },
  {
   "cell_type": "markdown",
   "metadata": {},
   "source": [
    "Parametrization\n",
    "---------------"
   ]
  },
  {
   "cell_type": "code",
   "execution_count": 3,
   "metadata": {
    "collapsed": false
   },
   "outputs": [],
   "source": [
    "# Initialize container\n",
    "para = dict()\n",
    "\n",
    "# Preferences\n",
    "para['beta'] = 0.95  # Time preference\n",
    "\n",
    "# Distribution Grid\n",
    "para['B'] = 5.0      # Upper bound for both epsilon and theta\n",
    "para['N'] = 50       # Number of possible realizations for both epsilon and theta\n",
    "\n",
    "# Parametrization of Career Distribution\n",
    "para['F_a'], para['F_b'] = 1.0, 1.0\n",
    "para['G_a'], para['G_b'] = 1.0, 1.0\n"
   ]
  },
  {
   "cell_type": "markdown",
   "metadata": {},
   "source": [
    "Derived Attributes\n",
    "----------"
   ]
  },
  {
   "cell_type": "code",
   "execution_count": 4,
   "metadata": {
    "collapsed": false
   },
   "outputs": [],
   "source": [
    "# Initialize container\n",
    "attr = dict()\n",
    "\n",
    "# Grid of random variables\n",
    "attr['theta']   = np.linspace(0, para['B'], para['N'])\n",
    "attr['epsilon'] = np.linspace(0, para['B'], para['N'])\n",
    "\n",
    "# Construct probabilities\n",
    "attr['F_probs'] = BetaBinomial_pdf(para['N'] - 1, para['F_a'], para['F_b']) \n",
    "attr['G_probs'] = BetaBinomial_pdf(para['N'] - 1, para['G_a'], para['G_b'])\n",
    "\n",
    "# Construct means.\n",
    "attr['F_mean'] = np.sum(attr['theta'] * attr['F_probs'])\n",
    "attr['G_mean'] = np.sum(attr['epsilon'] * attr['G_probs'])"
   ]
  },
  {
   "cell_type": "markdown",
   "metadata": {},
   "source": [
    "Auxiliary Functions\n",
    "-------------------"
   ]
  },
  {
   "cell_type": "code",
   "execution_count": 5,
   "metadata": {
    "collapsed": false
   },
   "outputs": [],
   "source": [
    "def evaluate_alternative(which, para, attr, v, i, j):\n",
    "    ''' Evaluate alternatives\n",
    "    '''\n",
    "    \n",
    "    if which == 'Stay Put':\n",
    "        \n",
    "        eval_ = attr['theta'][i] + attr['epsilon'][j] + para['beta'] * v[i,j]\n",
    "        \n",
    "    elif which == 'New Job': \n",
    "        \n",
    "        eval_ = attr['theta'][i] + attr['G_mean'] + para['beta'] * np.dot(v[i,:], attr['G_probs'])\n",
    "        \n",
    "    elif which == 'New Life':\n",
    "        \n",
    "        eval_ = attr['G_mean'] + attr['F_mean'] + para['beta'] * np.dot(attr['F_probs'], np.dot(v, attr['G_probs']))\n",
    "        \n",
    "    else:\n",
    "        \n",
    "        raise AssertionError('Alternative misspecified.')\n",
    "        \n",
    "    # Finishing \n",
    "    return eval_\n",
    "    \n",
    "def get_greedy(v, para, attr):\n",
    "    ''' Compute optimal actions taking v as the value function\n",
    "    '''\n",
    "    # Initialize container\n",
    "    policy = np.empty(v.shape, dtype = int)\n",
    "\n",
    "    # Evalaute cases\n",
    "    for i in range(para['N']):\n",
    "        \n",
    "        for j in range(para['N']):\n",
    "            \n",
    "            values = [] \n",
    "            \n",
    "            for which in ['Stay Put', 'New Job', 'New Life']:\n",
    "                             \n",
    "                values += [evaluate_alternative(which, para, attr, v, i, j)]\n",
    "      \n",
    "            # Determine optimal policy\n",
    "            policy[i,j] = np.argmax(values) + 1\n",
    "            \n",
    "    # Finishing \n",
    "    return policy\n",
    "\n",
    "def bellman_operator(v, para, attr):\n",
    "    ''' The Bellman operator for the model.\n",
    "    '''\n",
    "    \n",
    "    # Initialize container\n",
    "    new_v = np.empty(v.shape, dtype = float)\n",
    "    \n",
    "    # Evalaute cases\n",
    "    for i in range(para['N']):\n",
    "\n",
    "        for j in range(para['N']):\n",
    "\n",
    "            values = [] \n",
    "            \n",
    "            for which in ['Stay Put', 'New Job', 'New Life']:\n",
    "                             \n",
    "                values += [evaluate_alternative(which, para, attr, v, i, j)]\n",
    "                \n",
    "            new_v[i,j] = np.amax(values)\n",
    "    \n",
    "    # Finishing \n",
    "    return new_v\n",
    "\n",
    "def compute_fixed_point(T, v, para, attr, error_tol = 1e-3, max_iter = 50):\n",
    "    ''' Compute the fixed point.\n",
    "    '''\n",
    "    # Initialization\n",
    "    error = error_tol + 1\n",
    "    \n",
    "    iterate = 0\n",
    "\n",
    "    while True:\n",
    "        \n",
    "        new_v = T(v, para, attr)\n",
    "        \n",
    "        iterate += 1\n",
    "        \n",
    "        error = np.max(np.abs(new_v - v))\n",
    "\n",
    "        v = new_v\n",
    "        \n",
    "        # Terminal conditions\n",
    "        if iterate > max_iter: break\n",
    "            \n",
    "        if error < error_tol: break\n",
    "    \n",
    "    # Finishing\n",
    "    return v"
   ]
  },
  {
   "cell_type": "markdown",
   "metadata": {},
   "source": [
    "Solving the Model\n",
    "-----------------"
   ]
  },
  {
   "cell_type": "code",
   "execution_count": 6,
   "metadata": {
    "collapsed": false
   },
   "outputs": [],
   "source": [
    "# Starting value\n",
    "v_init =  np.ones((para['N'],para['N']))*100\n",
    "\n",
    "# Determine fix point \n",
    "v = compute_fixed_point(bellman_operator, v_init, para, attr)\n",
    "\n",
    "# Determine optimal policy\n",
    "optimal_policy = get_greedy(v, para, attr)"
   ]
  },
  {
   "cell_type": "markdown",
   "metadata": {},
   "source": [
    "Analysis\n",
    "--------"
   ]
  },
  {
   "cell_type": "markdown",
   "metadata": {},
   "source": [
    "### Plot the Optimal Policy"
   ]
  },
  {
   "cell_type": "code",
   "execution_count": 7,
   "metadata": {
    "collapsed": false
   },
   "outputs": [
    {
     "data": {
      "image/png": "[encoded data removed]",
      "text/plain": [
       "<matplotlib.figure.Figure at 0x7ffb5df74f28>"
      ]
     },
     "metadata": {},
     "output_type": "display_data"
    }
   ],
   "source": [
    "plot_optimal_policy(optimal_policy, attr)"
   ]
  },
  {
   "cell_type": "code",
   "execution_count": 7,
   "metadata": {
    "collapsed": false
   },
   "outputs": [],
   "source": []
  }
 ],
 "metadata": {
  "kernelspec": {
   "display_name": "Python 2",
   "language": "python",
   "name": "python2"
  },
  "language_info": {
   "codemirror_mode": {
    "name": "ipython",
    "version": 2
   },
   "file_extension": ".py",
   "mimetype": "text/x-python",
   "name": "python",
   "nbconvert_exporter": "python",
   "pygments_lexer": "ipython2",
   "version": "2.7.9"
  }
 },
 "nbformat": 4,
 "nbformat_minor": 0
}

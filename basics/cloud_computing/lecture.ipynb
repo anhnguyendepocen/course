{
 "cells": [
  {
   "cell_type": "code",
   "execution_count": 1,
   "metadata": {
    "collapsed": false
   },
   "outputs": [
    {
     "data": {
      "text/html": [
       "/*\n",
       "Placeholder for custom user CSS\n",
       "\n",
       "mainly to be overridden in profile/static/custom/custom.css\n",
       "\n",
       "This will always be an empty file in IPython\n",
       "*/\n",
       "\n",
       "\n",
       "\n",
       "<link href='http://fonts.googleapis.com/css?family=Alegreya+Sans:100,300,400,500,700,800,900,100italic,300italic,400italic,500italic,700italic,800italic,900italic' rel='stylesheet' type='text/css'>\n",
       "<link href='http://fonts.googleapis.com/css?family=Arvo:400,700,400italic' rel='stylesheet' type='text/css'>\n",
       "<link href='http://fonts.googleapis.com/css?family=PT+Mono' rel='stylesheet' type='text/css'>\n",
       "<link href='http://fonts.googleapis.com/css?family=Shadows+Into+Light' rel='stylesheet' type='text/css'>\n",
       "<link href='http://fonts.googleapis.com/css?family=Philosopher:400,700,400italic,700italic' rel='stylesheet' type='text/css'>\n",
       "\n",
       "<style>\n",
       "\n",
       "@font-face {\n",
       "    font-family: \"Computer Modern\";\n",
       "    src: url('http://mirrors.ctan.org/fonts/cm-unicode/fonts/otf/cmunss.otf');\n",
       "}\n",
       "\n",
       "#notebook_panel { /* main background */\n",
       "    background: #888;\n",
       "    color: #f6f6f6;\n",
       "}\n",
       "\n",
       "\n",
       "div.cell { /* set cell width to about 80 chars */\n",
       "    width: 800px;\n",
       "}\n",
       "\n",
       "div #notebook { /* centre the content */\n",
       "    background: #fff; /* white background for content */\n",
       "    width: 1000px;\n",
       "    margin: auto;\n",
       "    padding-left: 1em;\n",
       "}\n",
       "\n",
       "#notebook li { /* More space between bullet points */\n",
       "margin-top:0.8em;\n",
       "}\n",
       "\n",
       "/* draw border around running cells */\n",
       "div.cell.border-box-sizing.code_cell.running {\n",
       "    border: 3px solid #111;\n",
       "}\n",
       "\n",
       "/* Put a solid color box around each cell and its output, visually linking them together */\n",
       "div.cell.code_cell {\n",
       "    background-color: rgba(171,165,131,0.3); \n",
       "    border-radius: 10px; /* rounded borders */\n",
       "    padding: 1em;\n",
       "    margin-top: 1em;\n",
       "}\n",
       "\n",
       "div.text_cell_render{\n",
       "    font-family: 'Arvo' sans-serif;\n",
       "    line-height: 130%;\n",
       "    font-size: 150%;\n",
       "    width:700px;\n",
       "    margin-left:auto;\n",
       "    margin-right:auto;\n",
       "}\n",
       "\n",
       "/* Formatting for header cells */\n",
       ".text_cell_render h1 {\n",
       "    font-family: 'Philosopher', sans-serif;\n",
       "    font-weight: 400;\n",
       "    font-size: 32pt;\n",
       "    line-height: 100%;\n",
       "    color: rgb(12,85,97);\n",
       "    margin-bottom: 0.1em;\n",
       "    margin-top: 0.1em;\n",
       "    display: block;\n",
       "}\n",
       "\n",
       ".text_cell_render h2 {\n",
       "    font-family: 'Philosopher', serif;\n",
       "    font-weight: 700;\n",
       "    font-size: 24pt;\n",
       "    line-height: 100%;\n",
       "    color: rgb(171,165,131);\n",
       "    margin-bottom: 0.1em;\n",
       "    margin-top: 0.1em;\n",
       "    display: block;\n",
       "}    \n",
       "\n",
       ".text_cell_render h3 {\n",
       "    font-family: 'Philosopher', serif;\n",
       "    margin-top:12px;\n",
       "    margin-bottom: 3px;\n",
       "    font-style: italic;\n",
       "    color: rgb(95,92,72);\n",
       "}\n",
       "\n",
       ".text_cell_render h4 {\n",
       "    font-family: 'Philosopher', serif;\n",
       "}\n",
       "\n",
       ".text_cell_render h5 {\n",
       "    font-family: 'Alegreya Sans', sans-serif;\n",
       "    font-weight: 300;\n",
       "    font-size: 16pt;\n",
       "    color: grey;\n",
       "    font-style: italic;\n",
       "    margin-bottom: .1em;\n",
       "    margin-top: 0.1em;\n",
       "    display: block;\n",
       "}\n",
       "\n",
       ".text_cell_render h6 {\n",
       "    font-family: 'PT Mono', sans-serif;\n",
       "    font-weight: 300;\n",
       "    font-size: 10pt;\n",
       "    color: grey;\n",
       "    margin-bottom: 1px;\n",
       "    margin-top: 1px;\n",
       "}\n",
       "\n",
       ".CodeMirror{\n",
       "        font-family: \"PT Mono\";\n",
       "        font-size: 120%;\n",
       "}\n",
       "\n",
       "</style>"
      ],
      "text/plain": [
       "<IPython.core.display.HTML object>"
      ]
     },
     "execution_count": 1,
     "metadata": {},
     "output_type": "execute_result"
    }
   ],
   "source": [
    "from IPython.core.display import HTML\n",
    "css_file = '../../msc/custom.css'\n",
    "HTML(open(css_file, \"r\").read())"
   ]
  },
  {
   "cell_type": "markdown",
   "metadata": {},
   "source": [
    "Cloud Computing\n",
    "=========\n",
    "\n",
    "## Basics\n",
    "\n",
    "#### What is Cloud Computing?\n",
    "On-demand services, delivered over the network.\n",
    "#### Relevant Services:\n",
    "* Infrastructure Services\n",
    "    * Virtual Machines \n",
    "* Data Services\n",
    "    * Storage Accounts\n",
    "\n",
    "#### Why in Economic Research?\n",
    "* Big Compute \n",
    "    * Estimation \n",
    "    * Simulation\n",
    "    * Perturbation\n",
    "* Big Data\n",
    "    * Storage\n",
    "    * Collection\n",
    "    * Collaboration\n",
    " \n",
    "#### Providers\n",
    "* Google Compute Engine: https://cloud.google.com  \n",
    "* Amazon Web Services: https://aws.amazon.com\n",
    "* Microsoft Azure: http://azure.microsoft.com\n",
    "\n",
    "### Microsoft Azure\n",
    "\n",
    "#### Resources\n",
    "\n",
    "* Microsoft Azure: http://azure.microsoft.com \n",
    "* Python Development: http://azure.microsoft.com/python\n",
    "* Microsoft Research: http://research.microsoft.com/azure\n",
    "    * Training Events \n",
    "    * Online Tutorials\n",
    "    * Webinars\n",
    "    * Award Program\n",
    "\n",
    "<img src=\"images/ManagementPortal.png\">\n",
    "\n",
    "## Tutorials\n",
    "\n",
    "### Virtual Machines\n",
    "\n",
    "#### What to expect? \n",
    "* Creating\n",
    "    * Microsoft Azure Management Portal \n",
    "* Accessing and Working\n",
    "    * Basics of SSH\n",
    "\n",
    "### Storage Accounts\n",
    "#### What to expect? \n",
    "* Creating\n",
    "    * Microsoft Azure Management Portal \n",
    "* Managing\n",
    "    * Microsoft Azure SDK for Python\n",
    "    \n",
    "#### Microsoft Azure SDK for Python\n",
    "* Set of Python packages that make it easy to access the Microsoft Azure components such as Service Management, Storage, and Service Bus.\n",
    "* Website: https://github.com/Azure/azure-sdk-for-python\n",
    "\n",
    "<img src=\"images/BlobServiceConcepts.png\">"
   ]
  },
  {
   "cell_type": "markdown",
   "metadata": {},
   "source": [
    "Using the Microsoft Azure SDK for Python\n",
    "========================================\n",
    "\n",
    "This tutorial builds on the material provided on several websites of the *Microsoft Azure* ecosystem. Additional tutorials and documentation is avilable at the [*Python Developer Center*](http://azure.microsoft.com/en-us/develop/python/)\n",
    "\n",
    "First of all, we need to obtain access to our account using Management Certificates.\n",
    "\n",
    "    openssl req -x509 -nodes -days 365 -newkey rsa:1024 -keyout mycert.pem -out mycert.pem\n",
    "    \n",
    "    openssl x509 -inform pem -in mycert.pem -outform der -out mycert.cer"
   ]
  },
  {
   "cell_type": "code",
   "execution_count": null,
   "metadata": {
    "collapsed": true
   },
   "outputs": [],
   "source": [
    "# standard library\n",
    "import os\n",
    "import time\n",
    "import shutil\n",
    "\n",
    "# Load Python SDK\n",
    "from azure import *\n",
    "from azure.servicemanagement import *\n",
    "from azure.storage import *\n",
    "\n",
    "# Subscription details\n",
    "subscription_id  = '1a61650c-ada5-4173-a8da-2a4ffcfab747'\n",
    "certificate_path = 'mycert.pem'\n",
    "\n",
    "# Initialize connection\n",
    "sms = ServiceManagementService(subscription_id, certificate_path)"
   ]
  },
  {
   "cell_type": "markdown",
   "metadata": {},
   "source": [
    "Setting up a Cloud Service\n",
    "--------------------------"
   ]
  },
  {
   "cell_type": "code",
   "execution_count": null,
   "metadata": {
    "collapsed": false
   },
   "outputs": [],
   "source": [
    "cs_name, cs_label    = 'softEcon', 'softEcon'\n",
    "cs_desc, cs_location = 'Cloud Service for this lecture.', 'West US'\n",
    "\n",
    "sms.create_hosted_service(cs_name, cs_label, cs_desc, cs_location)"
   ]
  },
  {
   "cell_type": "markdown",
   "metadata": {},
   "source": [
    "Create Storage Account\n",
    "----------------------"
   ]
  },
  {
   "cell_type": "code",
   "execution_count": null,
   "metadata": {
    "collapsed": true
   },
   "outputs": [],
   "source": [
    "sa_name, sa_label    = 'lecture2', 'lecture2'\n",
    "sa_desc, sa_location = 'Storage Account for this lecture.', 'West US'\n",
    "\n",
    "sms.create_storage_account(sa_name, sa_desc, sa_label, location=sa_location)"
   ]
  },
  {
   "cell_type": "code",
   "execution_count": null,
   "metadata": {
    "collapsed": true
   },
   "outputs": [],
   "source": [
    "# Get key\n",
    "sa_key = None\n",
    "\n",
    "while sa_key is None:\n",
    "\n",
    "    try:\n",
    "        \n",
    "        sa_key = sms.get_storage_account_keys(sa_name).storage_service_keys.primary\n",
    "\n",
    "    except WindowsAzureMissingResourceError:\n",
    "        \n",
    "        pass\n",
    "    \n",
    "    time.sleep(5)"
   ]
  },
  {
   "cell_type": "markdown",
   "metadata": {},
   "source": [
    "Working with Containers\n",
    "-----------------------"
   ]
  },
  {
   "cell_type": "code",
   "execution_count": null,
   "metadata": {
    "collapsed": true
   },
   "outputs": [],
   "source": [
    "#Initialize connection to storate account\n",
    "blob_service = BlobService(sa_name, sa_key)\n",
    "\n",
    "# Specify container\n",
    "cn_names = ['movies', 'pictures']\n",
    "\n",
    "# Create containers\n",
    "for cn_name in cn_names:\n",
    "    \n",
    "    # Public\n",
    "    blob_service.create_container(cn_name, x_ms_blob_public_access='container')"
   ]
  },
  {
   "cell_type": "markdown",
   "metadata": {},
   "source": [
    "Working with Blobs\n",
    "------------------"
   ]
  },
  {
   "cell_type": "code",
   "execution_count": null,
   "metadata": {
    "collapsed": false
   },
   "outputs": [],
   "source": [
    "# Create directory structure\n",
    "DOWNLOAD_DIRECTORY, UPLOAD_DIRECTORY = 'downloads/', 'uploads/'\n",
    "\n",
    "os.mkdir(UPLOAD_DIRECTORY), os.mkdir(DOWNLOAD_DIRECTORY)\n",
    "\n",
    "# Create some data\n",
    "bb_names = ['mov1.avi', 'img1.jpg', 'img2.jpg']\n",
    "\n",
    "for bb_name in bb_names:\n",
    "    \n",
    "    file_name = UPLOAD_DIRECTORY + bb_name\n",
    "    \n",
    "    with open(file_name, 'w') as file_:\n",
    "\n",
    "        file_.write('This is some data.')"
   ]
  },
  {
   "cell_type": "code",
   "execution_count": null,
   "metadata": {
    "collapsed": true
   },
   "outputs": [],
   "source": [
    "# Select container.\n",
    "def get_container(bb_name):\n",
    "    ''' Get appropriate container for file.\n",
    "    '''\n",
    "    # Sort by file extension\n",
    "    if 'avi' in bb_name:\n",
    "        \n",
    "        cn_name = 'movies'\n",
    "    \n",
    "    elif 'jpg' in bb_name:\n",
    "        \n",
    "        cn_name = 'pictures'\n",
    "        \n",
    "    else:\n",
    "        \n",
    "        raise AssertionError\n",
    "    \n",
    "    # Finishing\n",
    "    return cn_name"
   ]
  },
  {
   "cell_type": "code",
   "execution_count": null,
   "metadata": {
    "collapsed": false
   },
   "outputs": [],
   "source": [
    "# Upload Blob into container\n",
    "for bb_name in bb_names:\n",
    "    \n",
    "    # Select container\n",
    "    cn_name = get_container(bb_name)\n",
    "    \n",
    "    # Upload file to container\n",
    "    file_path = UPLOAD_DIRECTORY + bb_name\n",
    "    \n",
    "    blob_service.put_block_blob_from_path(cn_name, bb_name, file_path)\n",
    "\n",
    "    # List content in container\n",
    "    blobs = blob_service.list_blobs(cn_name)"
   ]
  },
  {
   "cell_type": "code",
   "execution_count": null,
   "metadata": {
    "collapsed": false
   },
   "outputs": [],
   "source": [
    "# Download Blob from container\n",
    "for bb_name in bb_names:\n",
    "    \n",
    "    # Select container\n",
    "    cn_name = get_container(bb_name)\n",
    "\n",
    "    # Construct file name\n",
    "    file_path = DOWNLOAD_DIRECTORY + bb_name\n",
    "        \n",
    "    # Download Blob\n",
    "    blob_service.get_blob_to_path(cn_name, bb_name, file_path)\n"
   ]
  },
  {
   "cell_type": "markdown",
   "metadata": {},
   "source": [
    "Cleaning Up\n",
    "============"
   ]
  },
  {
   "cell_type": "code",
   "execution_count": null,
   "metadata": {
    "collapsed": true
   },
   "outputs": [],
   "source": [
    "# Delete Blobs\n",
    "for bb_name in bb_names:\n",
    "\n",
    "    cn_name = get_container(bb_name)\n",
    "    \n",
    "    blob_service.delete_blob(cn_name, bb_name)\n",
    "\n",
    "# Deleting container\n",
    "for cn_name in cn_names:\n",
    "    \n",
    "    blob_service.delete_container(cn_name)\n",
    "\n",
    "# Delete storage account\n",
    "sms.delete_storage_account(sa_name)\n",
    "\n",
    "# Delete cloud service\n",
    "sms.delete_hosted_service(cs_name)\n",
    "\n",
    "# Delete directories\n",
    "shutil.rmtree(UPLOAD_DIRECTORY), shutil.rmtree(DOWNLOAD_DIRECTORY)"
   ]
  },
  {
   "cell_type": "markdown",
   "metadata": {},
   "source": [
    "Miscellaneous\n",
    "=============\n",
    "\n",
    "Material\n",
    "    \n",
    "* [Introduction to Microsoft Azure Workshop](https://www.dropbox.com/sh/1fyjmotsv6pzjku/AADiZ7ffFefnZuoXh0a8WadSa?dl=1)\n",
    "\n",
    "Videos\n",
    "\n",
    "* [Introduction to Microsoft Azure](https://www.youtube.com/watch?v=ZNgvZE0MLeo)\n",
    "* [Microsoft Azure Data Center](https://www.youtube.com/watch?v=JJ44hEr5DFE)\n",
    "\n",
    "Resources\n",
    "\n",
    "* [Cloud Academy](https://cloudacademy.com/)\n",
    "* [AWS Educate](http://aws.amazon.com/education/awseducate/ )\n"
   ]
  }
 ],
 "metadata": {
  "kernelspec": {
   "display_name": "Python 2",
   "language": "python",
   "name": "python2"
  },
  "language_info": {
   "codemirror_mode": {
    "name": "ipython",
    "version": 2
   },
   "file_extension": ".py",
   "mimetype": "text/x-python",
   "name": "python",
   "nbconvert_exporter": "python",
   "pygments_lexer": "ipython2",
   "version": "2.7.9"
  }
 },
 "nbformat": 4,
 "nbformat_minor": 0
}
